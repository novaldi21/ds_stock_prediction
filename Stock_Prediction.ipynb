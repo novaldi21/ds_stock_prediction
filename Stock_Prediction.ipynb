{
 "cells": [
  {
   "cell_type": "markdown",
   "metadata": {},
   "source": [
    "**Import Pandas and Read Stock Data**"
   ]
  },
  {
   "cell_type": "code",
   "execution_count": null,
   "metadata": {},
   "outputs": [],
   "source": [
    "import pandas as pd"
   ]
  },
  {
   "cell_type": "code",
   "execution_count": 2,
   "metadata": {},
   "outputs": [],
   "source": [
    "df = pd.read_csv(\"all_stocks_5yr.csv\")"
   ]
  },
  {
   "cell_type": "markdown",
   "metadata": {},
   "source": [
    "**Select Company Stock Data to Analyze**"
   ]
  },
  {
   "cell_type": "code",
   "execution_count": 3,
   "metadata": {},
   "outputs": [],
   "source": [
    "#selecting emitens \"GOOGL\"\n",
    "df1 = df[df.Name == 'GOOGL']"
   ]
  },
  {
   "cell_type": "code",
   "execution_count": 19,
   "metadata": {},
   "outputs": [
    {
     "data": {
      "text/plain": [
       "Name\n",
       "A       1259\n",
       "AAL     1259\n",
       "AAP     1259\n",
       "AAPL    1259\n",
       "ABBV    1259\n",
       "        ... \n",
       "XYL     1259\n",
       "YUM     1259\n",
       "ZBH     1259\n",
       "ZION    1259\n",
       "ZTS     1259\n",
       "Length: 505, dtype: int64"
      ]
     },
     "execution_count": 19,
     "metadata": {},
     "output_type": "execute_result"
    }
   ],
   "source": [
    "df.groupby('Name').size()"
   ]
  },
  {
   "cell_type": "code",
   "execution_count": 4,
   "metadata": {
    "scrolled": true
   },
   "outputs": [
    {
     "data": {
      "text/html": [
       "<div>\n",
       "<style scoped>\n",
       "    .dataframe tbody tr th:only-of-type {\n",
       "        vertical-align: middle;\n",
       "    }\n",
       "\n",
       "    .dataframe tbody tr th {\n",
       "        vertical-align: top;\n",
       "    }\n",
       "\n",
       "    .dataframe thead th {\n",
       "        text-align: right;\n",
       "    }\n",
       "</style>\n",
       "<table border=\"1\" class=\"dataframe\">\n",
       "  <thead>\n",
       "    <tr style=\"text-align: right;\">\n",
       "      <th></th>\n",
       "      <th>date</th>\n",
       "      <th>open</th>\n",
       "      <th>high</th>\n",
       "      <th>low</th>\n",
       "      <th>close</th>\n",
       "      <th>volume</th>\n",
       "      <th>Name</th>\n",
       "    </tr>\n",
       "  </thead>\n",
       "  <tbody>\n",
       "    <tr>\n",
       "      <td>250308</td>\n",
       "      <td>2013-02-08</td>\n",
       "      <td>390.4551</td>\n",
       "      <td>393.7283</td>\n",
       "      <td>390.1698</td>\n",
       "      <td>393.0777</td>\n",
       "      <td>6031199</td>\n",
       "      <td>GOOGL</td>\n",
       "    </tr>\n",
       "    <tr>\n",
       "      <td>250309</td>\n",
       "      <td>2013-02-11</td>\n",
       "      <td>389.5892</td>\n",
       "      <td>391.8915</td>\n",
       "      <td>387.2619</td>\n",
       "      <td>391.6012</td>\n",
       "      <td>4330781</td>\n",
       "      <td>GOOGL</td>\n",
       "    </tr>\n",
       "    <tr>\n",
       "      <td>250310</td>\n",
       "      <td>2013-02-12</td>\n",
       "      <td>391.2659</td>\n",
       "      <td>394.3440</td>\n",
       "      <td>390.0747</td>\n",
       "      <td>390.7403</td>\n",
       "      <td>3714176</td>\n",
       "      <td>GOOGL</td>\n",
       "    </tr>\n",
       "    <tr>\n",
       "      <td>250311</td>\n",
       "      <td>2013-02-13</td>\n",
       "      <td>390.4551</td>\n",
       "      <td>393.0677</td>\n",
       "      <td>390.3750</td>\n",
       "      <td>391.8214</td>\n",
       "      <td>2393946</td>\n",
       "      <td>GOOGL</td>\n",
       "    </tr>\n",
       "    <tr>\n",
       "      <td>250312</td>\n",
       "      <td>2013-02-14</td>\n",
       "      <td>390.2549</td>\n",
       "      <td>394.7644</td>\n",
       "      <td>389.2739</td>\n",
       "      <td>394.3039</td>\n",
       "      <td>3466971</td>\n",
       "      <td>GOOGL</td>\n",
       "    </tr>\n",
       "    <tr>\n",
       "      <td>...</td>\n",
       "      <td>...</td>\n",
       "      <td>...</td>\n",
       "      <td>...</td>\n",
       "      <td>...</td>\n",
       "      <td>...</td>\n",
       "      <td>...</td>\n",
       "      <td>...</td>\n",
       "    </tr>\n",
       "    <tr>\n",
       "      <td>251562</td>\n",
       "      <td>2018-02-01</td>\n",
       "      <td>1175.9900</td>\n",
       "      <td>1187.4500</td>\n",
       "      <td>1169.3600</td>\n",
       "      <td>1181.5900</td>\n",
       "      <td>3675709</td>\n",
       "      <td>GOOGL</td>\n",
       "    </tr>\n",
       "    <tr>\n",
       "      <td>251563</td>\n",
       "      <td>2018-02-02</td>\n",
       "      <td>1127.4200</td>\n",
       "      <td>1131.3000</td>\n",
       "      <td>1111.1700</td>\n",
       "      <td>1119.2000</td>\n",
       "      <td>5892122</td>\n",
       "      <td>GOOGL</td>\n",
       "    </tr>\n",
       "    <tr>\n",
       "      <td>251564</td>\n",
       "      <td>2018-02-05</td>\n",
       "      <td>1100.6100</td>\n",
       "      <td>1114.9900</td>\n",
       "      <td>1056.7400</td>\n",
       "      <td>1062.3900</td>\n",
       "      <td>4177469</td>\n",
       "      <td>GOOGL</td>\n",
       "    </tr>\n",
       "    <tr>\n",
       "      <td>251565</td>\n",
       "      <td>2018-02-06</td>\n",
       "      <td>1033.9800</td>\n",
       "      <td>1087.3800</td>\n",
       "      <td>1030.0100</td>\n",
       "      <td>1084.4300</td>\n",
       "      <td>3831524</td>\n",
       "      <td>GOOGL</td>\n",
       "    </tr>\n",
       "    <tr>\n",
       "      <td>251566</td>\n",
       "      <td>2018-02-07</td>\n",
       "      <td>1084.9700</td>\n",
       "      <td>1086.5300</td>\n",
       "      <td>1054.6200</td>\n",
       "      <td>1055.4100</td>\n",
       "      <td>2597094</td>\n",
       "      <td>GOOGL</td>\n",
       "    </tr>\n",
       "  </tbody>\n",
       "</table>\n",
       "<p>1259 rows × 7 columns</p>\n",
       "</div>"
      ],
      "text/plain": [
       "              date       open       high        low      close   volume   Name\n",
       "250308  2013-02-08   390.4551   393.7283   390.1698   393.0777  6031199  GOOGL\n",
       "250309  2013-02-11   389.5892   391.8915   387.2619   391.6012  4330781  GOOGL\n",
       "250310  2013-02-12   391.2659   394.3440   390.0747   390.7403  3714176  GOOGL\n",
       "250311  2013-02-13   390.4551   393.0677   390.3750   391.8214  2393946  GOOGL\n",
       "250312  2013-02-14   390.2549   394.7644   389.2739   394.3039  3466971  GOOGL\n",
       "...            ...        ...        ...        ...        ...      ...    ...\n",
       "251562  2018-02-01  1175.9900  1187.4500  1169.3600  1181.5900  3675709  GOOGL\n",
       "251563  2018-02-02  1127.4200  1131.3000  1111.1700  1119.2000  5892122  GOOGL\n",
       "251564  2018-02-05  1100.6100  1114.9900  1056.7400  1062.3900  4177469  GOOGL\n",
       "251565  2018-02-06  1033.9800  1087.3800  1030.0100  1084.4300  3831524  GOOGL\n",
       "251566  2018-02-07  1084.9700  1086.5300  1054.6200  1055.4100  2597094  GOOGL\n",
       "\n",
       "[1259 rows x 7 columns]"
      ]
     },
     "execution_count": 4,
     "metadata": {},
     "output_type": "execute_result"
    }
   ],
   "source": [
    "df1"
   ]
  },
  {
   "cell_type": "markdown",
   "metadata": {},
   "source": [
    "**Split Train and Test Data**"
   ]
  },
  {
   "cell_type": "code",
   "execution_count": 5,
   "metadata": {},
   "outputs": [],
   "source": [
    "#split train and test, train = 20% data\n",
    "df1_train = df1.iloc[:1007]\n",
    "df1_test = df1.iloc[1007:]"
   ]
  },
  {
   "cell_type": "markdown",
   "metadata": {},
   "source": [
    "**Import Numpy and Matplotlib**"
   ]
  },
  {
   "cell_type": "code",
   "execution_count": 6,
   "metadata": {},
   "outputs": [],
   "source": [
    "import numpy as np\n",
    "import matplotlib.pyplot as plt"
   ]
  },
  {
   "cell_type": "markdown",
   "metadata": {},
   "source": [
    "**Building Training Set in Array Form**"
   ]
  },
  {
   "cell_type": "code",
   "execution_count": 7,
   "metadata": {},
   "outputs": [],
   "source": [
    "training_set = df1_train.iloc[:,1:2].values"
   ]
  },
  {
   "cell_type": "code",
   "execution_count": 8,
   "metadata": {
    "scrolled": false
   },
   "outputs": [
    {
     "data": {
      "text/plain": [
       "array([[390.4551],\n",
       "       [389.5892],\n",
       "       [391.2659],\n",
       "       ...,\n",
       "       [823.13  ],\n",
       "       [820.92  ],\n",
       "       [825.5   ]])"
      ]
     },
     "execution_count": 8,
     "metadata": {},
     "output_type": "execute_result"
    }
   ],
   "source": [
    "training_set"
   ]
  },
  {
   "cell_type": "markdown",
   "metadata": {},
   "source": [
    "**Feature Scalling**"
   ]
  },
  {
   "cell_type": "code",
   "execution_count": 10,
   "metadata": {},
   "outputs": [],
   "source": [
    "#feature scaling\n",
    "from sklearn.preprocessing import MinMaxScaler\n",
    "sc = MinMaxScaler(feature_range = (0,1))\n",
    "training_set_scaled = sc.fit_transform(training_set)"
   ]
  },
  {
   "cell_type": "markdown",
   "metadata": {},
   "source": [
    "**Convert data into 3D dimension array**"
   ]
  },
  {
   "cell_type": "code",
   "execution_count": 11,
   "metadata": {},
   "outputs": [],
   "source": [
    "#Convert data into 3D dimension array \n",
    "#(X_train samples, 60 timestamps, one feature at each step)\n",
    "x_train = []\n",
    "y_train = []\n",
    "for i in range(60, 1007):\n",
    "    x_train.append(training_set_scaled[i-60:i,0])\n",
    "    y_train.append(training_set_scaled[i,0])\n",
    "x_train, y_train = np.array(x_train), np.array(y_train)"
   ]
  },
  {
   "cell_type": "code",
   "execution_count": 12,
   "metadata": {},
   "outputs": [],
   "source": [
    "x_train = np.reshape(x_train, (x_train.shape[0], x_train.shape[1], 1))"
   ]
  },
  {
   "cell_type": "markdown",
   "metadata": {},
   "source": [
    "**Input Keras Library**"
   ]
  },
  {
   "cell_type": "code",
   "execution_count": 13,
   "metadata": {},
   "outputs": [
    {
     "name": "stderr",
     "output_type": "stream",
     "text": [
      "Using TensorFlow backend.\n"
     ]
    }
   ],
   "source": [
    "from keras.models import Sequential\n",
    "from keras.layers import Dense\n",
    "from keras.layers import LSTM\n",
    "from keras.layers import Dropout"
   ]
  },
  {
   "cell_type": "markdown",
   "metadata": {},
   "source": [
    "**Build LSTM Model**"
   ]
  },
  {
   "cell_type": "code",
   "execution_count": 14,
   "metadata": {},
   "outputs": [
    {
     "name": "stdout",
     "output_type": "stream",
     "text": [
      "Epoch 1/100\n",
      "947/947 [==============================] - 14s 14ms/step - loss: 0.0558\n",
      "Epoch 2/100\n",
      "947/947 [==============================] - 5s 5ms/step - loss: 0.0051\n",
      "Epoch 3/100\n",
      "947/947 [==============================] - 5s 5ms/step - loss: 0.0033\n",
      "Epoch 4/100\n",
      "947/947 [==============================] - 5s 5ms/step - loss: 0.0032\n",
      "Epoch 5/100\n",
      "947/947 [==============================] - 5s 5ms/step - loss: 0.0031A: 2s \n",
      "Epoch 6/100\n",
      "947/947 [==============================] - 5s 5ms/step - loss: 0.0030\n",
      "Epoch 7/100\n",
      "947/947 [==============================] - 5s 5ms/step - loss: 0.0028\n",
      "Epoch 8/100\n",
      "947/947 [==============================] - 5s 5ms/step - loss: 0.0028\n",
      "Epoch 9/100\n",
      "947/947 [==============================] - 5s 5ms/step - loss: 0.0026\n",
      "Epoch 10/100\n",
      "947/947 [==============================] - 5s 5ms/step - loss: 0.0027\n",
      "Epoch 11/100\n",
      "947/947 [==============================] - 5s 5ms/step - loss: 0.0024\n",
      "Epoch 12/100\n",
      "947/947 [==============================] - 5s 5ms/step - loss: 0.0022\n",
      "Epoch 13/100\n",
      "947/947 [==============================] - 5s 5ms/step - loss: 0.0022\n",
      "Epoch 14/100\n",
      "947/947 [==============================] - 5s 5ms/step - loss: 0.0021\n",
      "Epoch 15/100\n",
      "947/947 [==============================] - 5s 5ms/step - loss: 0.0021\n",
      "Epoch 16/100\n",
      "947/947 [==============================] - 5s 5ms/step - loss: 0.0021\n",
      "Epoch 17/100\n",
      "947/947 [==============================] - 5s 5ms/step - loss: 0.0019\n",
      "Epoch 18/100\n",
      "947/947 [==============================] - 5s 5ms/step - loss: 0.0019\n",
      "Epoch 19/100\n",
      "947/947 [==============================] - 5s 5ms/step - loss: 0.0020\n",
      "Epoch 20/100\n",
      "947/947 [==============================] - 5s 5ms/step - loss: 0.0019\n",
      "Epoch 21/100\n",
      "947/947 [==============================] - 5s 5ms/step - loss: 0.0019\n",
      "Epoch 22/100\n",
      "947/947 [==============================] - 5s 5ms/step - loss: 0.0017\n",
      "Epoch 23/100\n",
      "947/947 [==============================] - 5s 5ms/step - loss: 0.0016\n",
      "Epoch 24/100\n",
      "947/947 [==============================] - 5s 5ms/step - loss: 0.0019\n",
      "Epoch 25/100\n",
      "947/947 [==============================] - 5s 5ms/step - loss: 0.0021\n",
      "Epoch 26/100\n",
      "947/947 [==============================] - 5s 5ms/step - loss: 0.0015\n",
      "Epoch 27/100\n",
      "947/947 [==============================] - 5s 5ms/step - loss: 0.0015\n",
      "Epoch 28/100\n",
      "947/947 [==============================] - 5s 5ms/step - loss: 0.0013\n",
      "Epoch 29/100\n",
      "947/947 [==============================] - 5s 5ms/step - loss: 0.0014\n",
      "Epoch 30/100\n",
      "947/947 [==============================] - 5s 5ms/step - loss: 0.0013\n",
      "Epoch 31/100\n",
      "947/947 [==============================] - 5s 5ms/step - loss: 0.0013\n",
      "Epoch 32/100\n",
      "947/947 [==============================] - 5s 5ms/step - loss: 0.0011\n",
      "Epoch 33/100\n",
      "947/947 [==============================] - 5s 5ms/step - loss: 0.0011\n",
      "Epoch 34/100\n",
      "947/947 [==============================] - 5s 5ms/step - loss: 0.0011\n",
      "Epoch 35/100\n",
      "947/947 [==============================] - 5s 5ms/step - loss: 0.0012\n",
      "Epoch 36/100\n",
      "947/947 [==============================] - 5s 5ms/step - loss: 0.0011\n",
      "Epoch 37/100\n",
      "947/947 [==============================] - 5s 5ms/step - loss: 9.2151e-04\n",
      "Epoch 38/100\n",
      "947/947 [==============================] - 5s 5ms/step - loss: 9.2319e-04\n",
      "Epoch 39/100\n",
      "947/947 [==============================] - 5s 5ms/step - loss: 8.8757e-04\n",
      "Epoch 40/100\n",
      "947/947 [==============================] - 5s 5ms/step - loss: 8.3714e-04\n",
      "Epoch 41/100\n",
      "947/947 [==============================] - 5s 5ms/step - loss: 7.3971e-04\n",
      "Epoch 42/100\n",
      "947/947 [==============================] - 5s 5ms/step - loss: 7.5158e-04\n",
      "Epoch 43/100\n",
      "947/947 [==============================] - 5s 5ms/step - loss: 9.1629e-04\n",
      "Epoch 44/100\n",
      "947/947 [==============================] - 5s 5ms/step - loss: 9.2844e-04\n",
      "Epoch 45/100\n",
      "947/947 [==============================] - 5s 5ms/step - loss: 7.7086e-04\n",
      "Epoch 46/100\n",
      "947/947 [==============================] - 5s 5ms/step - loss: 7.5539e-04\n",
      "Epoch 47/100\n",
      "947/947 [==============================] - 5s 5ms/step - loss: 9.0230e-04\n",
      "Epoch 48/100\n",
      "947/947 [==============================] - 5s 5ms/step - loss: 7.9537e-04\n",
      "Epoch 49/100\n",
      "947/947 [==============================] - 5s 5ms/step - loss: 6.6798e-04\n",
      "Epoch 50/100\n",
      "947/947 [==============================] - 5s 5ms/step - loss: 6.7214e-04\n",
      "Epoch 51/100\n",
      "947/947 [==============================] - 5s 5ms/step - loss: 6.8697e-04\n",
      "Epoch 52/100\n",
      "947/947 [==============================] - 5s 5ms/step - loss: 5.8440e-04\n",
      "Epoch 53/100\n",
      "947/947 [==============================] - 5s 5ms/step - loss: 5.8044e-04\n",
      "Epoch 54/100\n",
      "947/947 [==============================] - 5s 6ms/step - loss: 6.3510e-04\n",
      "Epoch 55/100\n",
      "947/947 [==============================] - 5s 5ms/step - loss: 5.4927e-04\n",
      "Epoch 56/100\n",
      "947/947 [==============================] - 5s 6ms/step - loss: 5.0476e-04\n",
      "Epoch 57/100\n",
      "947/947 [==============================] - 5s 5ms/step - loss: 5.1225e-04\n",
      "Epoch 58/100\n",
      "947/947 [==============================] - 5s 6ms/step - loss: 5.1568e-04\n",
      "Epoch 59/100\n",
      "947/947 [==============================] - 5s 6ms/step - loss: 7.2657e-04\n",
      "Epoch 60/100\n",
      "947/947 [==============================] - 5s 5ms/step - loss: 5.1996e-04A: 0s - loss: 4.5065\n",
      "Epoch 61/100\n",
      "947/947 [==============================] - 5s 5ms/step - loss: 5.8247e-04\n",
      "Epoch 62/100\n",
      "947/947 [==============================] - 5s 5ms/step - loss: 4.9350e-04\n",
      "Epoch 63/100\n",
      "947/947 [==============================] - 5s 6ms/step - loss: 4.8395e-04\n",
      "Epoch 64/100\n",
      "947/947 [==============================] - 5s 6ms/step - loss: 5.2175e-04\n",
      "Epoch 65/100\n",
      "947/947 [==============================] - 5s 5ms/step - loss: 4.9856e-04\n",
      "Epoch 66/100\n",
      "947/947 [==============================] - 5s 5ms/step - loss: 5.1985e-04\n",
      "Epoch 67/100\n",
      "947/947 [==============================] - 5s 6ms/step - loss: 4.8711e-04\n",
      "Epoch 68/100\n",
      "947/947 [==============================] - 5s 5ms/step - loss: 5.2629e-04A: 3\n",
      "Epoch 69/100\n",
      "947/947 [==============================] - 5s 5ms/step - loss: 6.3887e-04\n",
      "Epoch 70/100\n",
      "947/947 [==============================] - 5s 5ms/step - loss: 6.2435e-04\n",
      "Epoch 71/100\n",
      "947/947 [==============================] - 5s 5ms/step - loss: 8.4058e-04\n",
      "Epoch 72/100\n",
      "947/947 [==============================] - 5s 5ms/step - loss: 4.8297e-04\n",
      "Epoch 73/100\n",
      "947/947 [==============================] - 5s 5ms/step - loss: 4.8395e-04\n",
      "Epoch 74/100\n",
      "947/947 [==============================] - 5s 5ms/step - loss: 6.1259e-04A: 0s - loss: 6.756\n",
      "Epoch 75/100\n",
      "947/947 [==============================] - 5s 5ms/step - loss: 4.9830e-04\n",
      "Epoch 76/100\n",
      "947/947 [==============================] - 5s 5ms/step - loss: 4.9003e-04\n",
      "Epoch 77/100\n",
      "947/947 [==============================] - 5s 6ms/step - loss: 5.9285e-04A: 1s - loss: 6\n",
      "Epoch 78/100\n",
      "947/947 [==============================] - 5s 5ms/step - loss: 4.7332e-04\n",
      "Epoch 79/100\n",
      "947/947 [==============================] - 5s 5ms/step - loss: 5.2395e-04\n",
      "Epoch 80/100\n",
      "947/947 [==============================] - 5s 6ms/step - loss: 6.6836e-04\n",
      "Epoch 81/100\n",
      "947/947 [==============================] - 5s 5ms/step - loss: 5.7248e-04\n",
      "Epoch 82/100\n",
      "947/947 [==============================] - 5s 5ms/step - loss: 4.7861e-04\n",
      "Epoch 83/100\n",
      "947/947 [==============================] - 5s 6ms/step - loss: 4.4987e-04\n",
      "Epoch 84/100\n",
      "947/947 [==============================] - 5s 5ms/step - loss: 4.7550e-04\n",
      "Epoch 85/100\n",
      "947/947 [==============================] - 6s 6ms/step - loss: 4.7585e-04\n",
      "Epoch 86/100\n",
      "947/947 [==============================] - 5s 6ms/step - loss: 4.4684e-04A: 2s - lo\n",
      "Epoch 87/100\n",
      "947/947 [==============================] - 5s 6ms/step - loss: 4.7536e-04\n",
      "Epoch 88/100\n",
      "947/947 [==============================] - 5s 6ms/step - loss: 4.9474e-04A: 1s - loss:\n",
      "Epoch 89/100\n",
      "947/947 [==============================] - 5s 6ms/step - loss: 6.7495e-04\n",
      "Epoch 90/100\n",
      "947/947 [==============================] - 5s 5ms/step - loss: 5.6646e-04\n",
      "Epoch 91/100\n",
      "947/947 [==============================] - 5s 5ms/step - loss: 5.0450e-04\n",
      "Epoch 92/100\n",
      "947/947 [==============================] - 5s 6ms/step - loss: 5.2893e-04\n",
      "Epoch 93/100\n",
      "947/947 [==============================] - 5s 6ms/step - loss: 6.1031e-04\n",
      "Epoch 94/100\n",
      "947/947 [==============================] - 5s 6ms/step - loss: 4.5165e-04A: 1s - loss: 4.17\n",
      "Epoch 95/100\n",
      "947/947 [==============================] - 5s 5ms/step - loss: 4.5773e-04\n",
      "Epoch 96/100\n",
      "947/947 [==============================] - 5s 5ms/step - loss: 4.8325e-04\n",
      "Epoch 97/100\n",
      "947/947 [==============================] - 5s 5ms/step - loss: 4.6850e-04\n",
      "Epoch 98/100\n",
      "947/947 [==============================] - 6s 6ms/step - loss: 5.0415e-04\n",
      "Epoch 99/100\n",
      "947/947 [==============================] - 5s 5ms/step - loss: 6.6906e-04A: 2s - los\n",
      "Epoch 100/100\n",
      "947/947 [==============================] - 5s 6ms/step - loss: 4.8761e-04A: 1s - loss: \n"
     ]
    },
    {
     "data": {
      "text/plain": [
       "<keras.callbacks.callbacks.History at 0x52c4f437b8>"
      ]
     },
     "execution_count": 14,
     "metadata": {},
     "output_type": "execute_result"
    }
   ],
   "source": [
    "regressor = Sequential()\n",
    "\n",
    "regressor.add(LSTM(units = 50, return_sequences = True, input_shape = (x_train.shape[1], 1)))\n",
    "regressor.add(Dropout(0,2))\n",
    "\n",
    "regressor.add(LSTM(units = 50, return_sequences = True))\n",
    "regressor.add(Dropout(0,2))\n",
    "\n",
    "regressor.add(LSTM(units = 50, return_sequences = True))\n",
    "regressor.add(Dropout(0,2))\n",
    "\n",
    "regressor.add(LSTM(units = 50))\n",
    "regressor.add(Dropout(0,2))\n",
    "\n",
    "regressor.add(Dense(units = 1))\n",
    "\n",
    "regressor.compile(optimizer = 'adam', loss = 'mean_squared_error')\n",
    "\n",
    "regressor.fit(x_train, y_train, epochs = 100, batch_size =32)\n",
    "\n"
   ]
  },
  {
   "cell_type": "markdown",
   "metadata": {},
   "source": [
    "**Predicts Open Stock Price**"
   ]
  },
  {
   "cell_type": "code",
   "execution_count": 15,
   "metadata": {},
   "outputs": [],
   "source": [
    "dataset_total = df1['open']\n",
    "inputs = dataset_total[len(dataset_total) - len(df1_test) - 60:].values\n",
    "inputs = inputs.reshape(-1,1)\n",
    "inputs = sc.transform(inputs)\n",
    "                          \n",
    "X_test = []\n",
    "for i in range(60, 312):\n",
    "    X_test.append(inputs[i-60:i,0])\n",
    "X_test = np.array(X_test)\n",
    "X_test = np.reshape(X_test, (X_test.shape[0], X_test.shape[1], 1))\n",
    "predicted_stock_price = regressor.predict(X_test)\n",
    "predicted_stock_price = sc.inverse_transform(predicted_stock_price)\n",
    "                          "
   ]
  },
  {
   "cell_type": "code",
   "execution_count": 16,
   "metadata": {},
   "outputs": [],
   "source": [
    "real_stock_price = df1_test['open'].values"
   ]
  },
  {
   "cell_type": "markdown",
   "metadata": {},
   "source": [
    "**Plot Visualization**"
   ]
  },
  {
   "cell_type": "code",
   "execution_count": 19,
   "metadata": {},
   "outputs": [
    {
     "data": {
      "image/png": "[encoded data removed]",
      "text/plain": [
       "<Figure size 1080x1080 with 1 Axes>"
      ]
     },
     "metadata": {
      "needs_background": "light"
     },
     "output_type": "display_data"
    }
   ],
   "source": [
    "plt.figure(figsize=(15,15))\n",
    "plt.plot(real_stock_price, color = 'black', label = 'GOOGL Stock Price')\n",
    "plt.plot(predicted_stock_price, color = 'green', label = 'predicted GOOGL Stock Price')\n",
    "plt.title('GOOGL Stock Price Prediction')\n",
    "plt.xlabel('Time')\n",
    "plt.ylabel('GOOGL Stock Price')\n",
    "plt.legend()\n",
    "plt.show()\n"
   ]
  },
  {
   "cell_type": "code",
   "execution_count": null,
   "metadata": {},
   "outputs": [],
   "source": []
  }
 ],
 "metadata": {
  "kernelspec": {
   "display_name": "Python 3",
   "language": "python",
   "name": "python3"
  },
  "language_info": {
   "codemirror_mode": {
    "name": "ipython",
    "version": 3
   },
   "file_extension": ".py",
   "mimetype": "text/x-python",
   "name": "python",
   "nbconvert_exporter": "python",
   "pygments_lexer": "ipython3",
   "version": "3.6.8"
  }
 },
 "nbformat": 4,
 "nbformat_minor": 2
}
